{
  "nbformat": 4,
  "nbformat_minor": 0,
  "metadata": {
    "colab": {
      "name": "HW_1.ipynb",
      "provenance": [],
      "include_colab_link": true
    },
    "kernelspec": {
      "name": "python3",
      "display_name": "Python 3"
    }
  },
  "cells": [
    {
      "cell_type": "markdown",
      "metadata": {
        "id": "view-in-github",
        "colab_type": "text"
      },
      "source": [
        "<a href=\"https://colab.research.google.com/github/psidolphin/simple-python-programs/blob/master/HW_1.ipynb\" target=\"_parent\"><img src=\"https://colab.research.google.com/assets/colab-badge.svg\" alt=\"Open In Colab\"/></a>"
      ]
    },
    {
      "cell_type": "markdown",
      "metadata": {
        "id": "cB-ZphMl-MOW"
      },
      "source": [
        "# SPRING 2021\r\n",
        "# Applied Machine Learning, HW 1\r\n",
        "\r\n",
        "*Instructions:* Read all problems very carefully. Make sure that you are answering all questions included in a given problem. Every problem has a code cell inserted at the very end. You must show your solution in the code cell and run the cell by pressing the SHIFT and ENTER buttons simultaneously. The output of the cell must demonstrate the correctness of your solution. If you need to insert more code cells -- feel free to do so."
      ]
    },
    {
      "cell_type": "markdown",
      "metadata": {
        "id": "D01F1l8z-i68"
      },
      "source": [
        "**Problem 1** You are given the following list:"
      ]
    },
    {
      "cell_type": "code",
      "metadata": {
        "colab": {
          "base_uri": "https://localhost:8080/"
        },
        "id": "oI2fwNff7MOW",
        "outputId": "6156e430-6dba-4fda-d1ff-efe9ce1ca645"
      },
      "source": [
        "my_list = [\"ABC\", 45, 7.8, \"Applied\", 9, \"Dog\", \"Learning\", \"Cat\", ' ', 89.0, \"Machine\"]\r\n",
        "print(my_list)"
      ],
      "execution_count": null,
      "outputs": [
        {
          "output_type": "stream",
          "text": [
            "['ABC', 45, 7.8, 'Applied', 9, 'Dog', 'Learning', 'Cat', ' ', 89.0, 'Machine']\n"
          ],
          "name": "stdout"
        }
      ]
    },
    {
      "cell_type": "markdown",
      "metadata": {
        "id": "UWW6X9a5_G3k"
      },
      "source": [
        "Using only the elements of this list, string concatenation, and appropriate string methods, construct a new string variable `class_name` equal to 'APPLIED machine learning' (note the upper and lower case letters!). "
      ]
    },
    {
      "cell_type": "code",
      "metadata": {
        "id": "UCtMjf46BC7G",
        "colab": {
          "base_uri": "https://localhost:8080/"
        },
        "outputId": "34c0547a-39b5-4a87-e303-a08607e22a8f"
      },
      "source": [
        "my_list = [\"ABC\", 45, 7.8, \"Applied\", 9, \"Dog\", \"Learning\", \"Cat\", ' ', 89.0, \"Machine\"]\r\n",
        "class_name = my_list[3].upper() + ' ' + my_list[10].lower() + ' ' + my_list[6].lower()\r\n",
        "print(class_name)"
      ],
      "execution_count": null,
      "outputs": [
        {
          "output_type": "stream",
          "text": [
            "APPLIED machine learning\n"
          ],
          "name": "stdout"
        }
      ]
    },
    {
      "cell_type": "markdown",
      "metadata": {
        "id": "3U7gEb-lAtgw"
      },
      "source": [
        "**Problem 2** In this problem you are given the following string:"
      ]
    },
    {
      "cell_type": "code",
      "metadata": {
        "colab": {
          "base_uri": "https://localhost:8080/"
        },
        "id": "A8sl1u5l_EG4",
        "outputId": "0bdef929-9bf3-44e8-c43e-66f1d8928594"
      },
      "source": [
        "my_string_1 = \"I'd like to learn more about NumPy arrays!\"\r\n",
        "my_string_2 = \"Python has so many rules!\"\r\n",
        "print(my_string_1)\r\n",
        "print(my_string_2)"
      ],
      "execution_count": null,
      "outputs": [
        {
          "output_type": "stream",
          "text": [
            "I'd like to learn more about NumPy arrays!\n",
            "Python has so many rules!\n"
          ],
          "name": "stdout"
        }
      ]
    },
    {
      "cell_type": "markdown",
      "metadata": {
        "id": "oo8ln587Cjbg"
      },
      "source": [
        "Using only these strings, string concatenation, and nothing else, construct a new string variable `opinion` equal to 'NumPy rules!'. There is more than one way to do it, so please provide the most efficient solution."
      ]
    },
    {
      "cell_type": "code",
      "metadata": {
        "id": "0FkWTkSqChrc",
        "colab": {
          "base_uri": "https://localhost:8080/"
        },
        "outputId": "d2169894-d621-46a7-cc66-5c32b53661c8"
      },
      "source": [
        "my_string_1 = \"I'd like to learn more about NumPy arrays!\"\r\n",
        "my_string_2 = \"Python has so many rules!\"\r\n",
        "opinion = my_string_1[28:34] + \" \" +  my_string_2[18:]\r\n",
        "print(opinion)"
      ],
      "execution_count": null,
      "outputs": [
        {
          "output_type": "stream",
          "text": [
            " NumPy  rules!\n"
          ],
          "name": "stdout"
        }
      ]
    },
    {
      "cell_type": "markdown",
      "metadata": {
        "id": "Avzat3x_DKVC"
      },
      "source": [
        "**Problem 3** In the following list"
      ]
    },
    {
      "cell_type": "code",
      "metadata": {
        "colab": {
          "base_uri": "https://localhost:8080/"
        },
        "id": "XF0YsNyjDT6A",
        "outputId": "3e1fda08-9741-4bee-e8c3-3a4f38dec625"
      },
      "source": [
        "one_to_five = [1, 2, 7, 4, 5]\r\n",
        "print(one_to_five)"
      ],
      "execution_count": null,
      "outputs": [
        {
          "output_type": "stream",
          "text": [
            "[1, 2, 7, 4, 5]\n"
          ],
          "name": "stdout"
        }
      ]
    },
    {
      "cell_type": "markdown",
      "metadata": {
        "id": "vT3uZH1UDZ8Z"
      },
      "source": [
        "the number `7` is obviously out of place. Fix it -- replace the number `7` in the list with `3`. Store the result in the original `one_to_five` list."
      ]
    },
    {
      "cell_type": "code",
      "metadata": {
        "id": "Md2FgHloDpAo",
        "colab": {
          "base_uri": "https://localhost:8080/"
        },
        "outputId": "0820c994-0c6b-42f3-dc6e-a6b58b9bec8f"
      },
      "source": [
        "one_to_five = [1, 2, 7, 4, 5]\r\n",
        "one_to_five[2] = 3\r\n",
        "print(one_to_five)"
      ],
      "execution_count": null,
      "outputs": [
        {
          "output_type": "stream",
          "text": [
            "[1, 2, 3, 4, 5]\n"
          ],
          "name": "stdout"
        }
      ]
    },
    {
      "cell_type": "markdown",
      "metadata": {
        "id": "aBaT6855DqYY"
      },
      "source": [
        "**Problem 4** You are working with two Python variables, `username` and `password`. At present, the values of these variables are"
      ]
    },
    {
      "cell_type": "code",
      "metadata": {
        "colab": {
          "base_uri": "https://localhost:8080/"
        },
        "id": "VA9GQIW7EG7A",
        "outputId": "5df1a1eb-e52c-4b12-a28d-d56e230f9450"
      },
      "source": [
        "class_name = 'Applied Machine Learning'\r\n",
        "instructor = 'Alexey Pronin'\r\n",
        "\r\n",
        "print(class_name)\r\n",
        "print(instructor)"
      ],
      "execution_count": null,
      "outputs": [
        {
          "output_type": "stream",
          "text": [
            "Applied Machine Learning\n",
            "Alexey Pronin\n"
          ],
          "name": "stdout"
        }
      ]
    },
    {
      "cell_type": "markdown",
      "metadata": {
        "id": "6GJKBYQ7ExOf"
      },
      "source": [
        "But you know that these values may change in the future. Create a new string variable `class_instructor_info` that at present is equal to \r\n",
        "\r\n",
        "'My instructor for the \"Applied Machine Learning\" class is Alexey Pronin' \r\n",
        "\r\n",
        "but would change the class name and the instructor's name in accordance with the values of the `class_name` and `instructor` variables should these values change in the future. Test it: change the values of the variables `class_name` and `instructor` to \"Mummy wrapping\" and \"Ramesses II\", repectively, and demonstrate that the variable `class_instructor_info` changes accordingly."
      ]
    },
    {
      "cell_type": "code",
      "metadata": {
        "id": "VSiEhYEBGC44",
        "colab": {
          "base_uri": "https://localhost:8080/"
        },
        "outputId": "5589872e-27c3-4fdd-ce8d-e1a349930a82"
      },
      "source": [
        "class_name = 'Applied Machine Learning'\r\n",
        "instructor = 'Alexey Pronin'\r\n",
        "\r\n",
        "class_name = 'Mummy Wrapping'\r\n",
        "instructor = 'Ramesses II'\r\n",
        "\r\n",
        "class_instructor_info = 'My instructor for the ' + \"\\\"%s\\\"\"% class_name+ ' ' +  'is ' + instructor\r\n",
        "print(class_instructor_info)"
      ],
      "execution_count": null,
      "outputs": [
        {
          "output_type": "stream",
          "text": [
            "My instructor for the \"Mummy Wrapping\" is Ramesses II\n"
          ],
          "name": "stdout"
        }
      ]
    },
    {
      "cell_type": "markdown",
      "metadata": {
        "id": "Pq544uL0G8gb"
      },
      "source": [
        "**Problem 5** Demonstrate how you can turn the following list"
      ]
    },
    {
      "cell_type": "code",
      "metadata": {
        "colab": {
          "base_uri": "https://localhost:8080/"
        },
        "id": "pCs5KEs4IGCx",
        "outputId": "c23f2cf3-ea72-4d3f-95c1-d228116f304c"
      },
      "source": [
        "one_to_ten = [1, 2, 3, 4, 5, 6, 7, 8, 9, 10]\r\n",
        "print(one_to_ten)"
      ],
      "execution_count": null,
      "outputs": [
        {
          "output_type": "stream",
          "text": [
            "[1, 2, 3, 4, 5, 6, 7, 8, 9, 10]\n"
          ],
          "name": "stdout"
        }
      ]
    },
    {
      "cell_type": "markdown",
      "metadata": {
        "id": "Pr2PDlbsIMIS"
      },
      "source": [
        "into this one:"
      ]
    },
    {
      "cell_type": "code",
      "metadata": {
        "colab": {
          "base_uri": "https://localhost:8080/"
        },
        "id": "G6lhA3u2ILvo",
        "outputId": "7db04b9a-1024-4f7b-b2ee-9485130a38e7"
      },
      "source": [
        "new_list = [10, 7, 4, 1]\r\n",
        "print(new_list)\r\n"
      ],
      "execution_count": null,
      "outputs": [
        {
          "output_type": "stream",
          "text": [
            "[10, 7, 4, 1]\n"
          ],
          "name": "stdout"
        }
      ]
    },
    {
      "cell_type": "code",
      "metadata": {
        "colab": {
          "base_uri": "https://localhost:8080/"
        },
        "id": "nC6C5RFkxioa",
        "outputId": "2038c2c4-5bfe-4f60-d4fa-1fa64db8aee3"
      },
      "source": [
        "one_to_ten = [1, 2, 3, 4, 5, 6, 7, 8, 9, 10]\r\n",
        "new_list = []\r\n",
        "for i in range(len(one_to_ten), 0,-3):\r\n",
        "  new_list.append(i)\r\n",
        "print(new_list)\r\n",
        "  \r\n",
        "\r\n",
        "\r\n",
        "\r\n",
        "  "
      ],
      "execution_count": 23,
      "outputs": [
        {
          "output_type": "stream",
          "text": [
            "[10, 7, 4, 1]\n"
          ],
          "name": "stdout"
        }
      ]
    },
    {
      "cell_type": "markdown",
      "metadata": {
        "id": "-ESlpjbYI90i"
      },
      "source": [
        "**Problem 6** Add a new element 42 at the very end of the following list"
      ]
    },
    {
      "cell_type": "code",
      "metadata": {
        "colab": {
          "base_uri": "https://localhost:8080/"
        },
        "id": "4HRAh5WCItjR",
        "outputId": "739955fb-beae-45c1-f253-336d2e99c2fd"
      },
      "source": [
        "my_favorite_numbers = ['pi', 3, 2, 1, 'e']\r\n",
        "my_favorite_numbers.append(42)\r\n",
        "print(my_favorite_numbers)"
      ],
      "execution_count": null,
      "outputs": [
        {
          "output_type": "stream",
          "text": [
            "['pi', 3, 2, 1, 'e', 42]\n"
          ],
          "name": "stdout"
        }
      ]
    },
    {
      "cell_type": "markdown",
      "metadata": {
        "id": "mWXAQJzaKCRu"
      },
      "source": [
        "**Problem 7** You are given the following nested list"
      ]
    },
    {
      "cell_type": "code",
      "metadata": {
        "colab": {
          "base_uri": "https://localhost:8080/"
        },
        "id": "xWNVt23DJ6_Q",
        "outputId": "df51cae6-b543-4456-f987-04f87714231d"
      },
      "source": [
        "makes_no_sense = [[1, 2, \"three\", 'four'], ['A', 'b', 'c', 'D'], ['100', ['Moon', 'Jupiter', 'Saturn', 'Sun', 'Pluto', 'Earth'], 42]]\r\n",
        "print(makes_no_sense)"
      ],
      "execution_count": null,
      "outputs": [
        {
          "output_type": "stream",
          "text": [
            "[[1, 2, 'three', 'four'], ['A', 'b', 'c', 'D'], ['100', ['Moon', 'Jupiter', 'Saturn', 'Sun', 'Pluto', 'Earth'], 42]]\n"
          ],
          "name": "stdout"
        }
      ]
    },
    {
      "cell_type": "markdown",
      "metadata": {
        "id": "y6wMzoIVKxZy"
      },
      "source": [
        "Retrieve the string 'Sun' from the list and save it in a new variable called `my_favorite_star` (dont' forget to print the variable to the screen!)."
      ]
    },
    {
      "cell_type": "code",
      "metadata": {
        "id": "lQZ2BqG9K162",
        "colab": {
          "base_uri": "https://localhost:8080/"
        },
        "outputId": "3cdeac80-ab3f-4af5-86fd-6658a9e27319"
      },
      "source": [
        "makes_no_sense = [[1, 2, \"three\", 'four'], ['A', 'b', 'c', 'D'], ['100', ['Moon', 'Jupiter', 'Saturn', 'Sun', 'Pluto', 'Earth'], 42]]\r\n",
        "my_favorite_star = makes_no_sense[2][1][3]\r\n",
        "print(my_favorite_star)"
      ],
      "execution_count": 26,
      "outputs": [
        {
          "output_type": "stream",
          "text": [
            "Sun\n"
          ],
          "name": "stdout"
        }
      ]
    },
    {
      "cell_type": "markdown",
      "metadata": {
        "id": "gihEsezyLuRl"
      },
      "source": [
        "**Problem 8** Create a new dictionary `digits` whose keys are the names of the 1-9 digits and the values are the corresponding digits in the integer format (for example, the key 'one' corresponds to a value of `1`). After the dictionary is created add a new key-value pair to it: 'zero' (the key) and `0` (the value). Then change the integer value `7` to the string value '7'. "
      ]
    },
    {
      "cell_type": "code",
      "metadata": {
        "id": "2j2YXvn3NBFt"
      },
      "source": [
        "digits = {\r\n",
        "    \"one\": 1,\r\n",
        "    \"two\": 2,\r\n",
        "    \"three\": 3,\r\n",
        "    \"four\": 4,\r\n",
        "    \"five\": 5,\r\n",
        "    \"six\": 6,\r\n",
        "    \"seven\": 7\r\n",
        "}\r\n",
        "digits[\"zero\"] = 0\r\n",
        "digits[\"seven\"] = '7'\r\n"
      ],
      "execution_count": null,
      "outputs": []
    }
  ]
}